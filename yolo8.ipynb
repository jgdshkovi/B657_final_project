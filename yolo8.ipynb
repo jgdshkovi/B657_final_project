{
 "cells": [
  {
   "cell_type": "code",
   "execution_count": null,
   "metadata": {},
   "outputs": [],
   "source": [
    "from ultralytics import YOLO\n",
    "\n",
    "# Create a new YOLO model from scratch\n",
    "# model = YOLO('yolov8n.yaml')\n",
    "\n",
    "# Load a pretrained YOLO model (recommended for training)\n",
    "model = YOLO('yolov8n.pt')\n",
    "\n",
    " # Train the model\n",
    "# results = model.train(data='VOC.yaml', epochs=100, imgsz=640, resume=True)"
   ]
  },
  {
   "cell_type": "code",
   "execution_count": null,
   "metadata": {},
   "outputs": [],
   "source": [
    "# read images using PIL looping through a directory\n",
    "import os\n",
    "\n",
    "model_name = 'yolo8'\n",
    "for folders in os.listdir(f'data/frames'):\n",
    "    results = model.predict(f'data/frames/{folders}', save_conf=True)\n",
    "    predictions = {}\n",
    "    for i,r in enumerate(results):\n",
    "        if not os.path.exists(f'data/results/{model_name}/{folders}'):\n",
    "            os.makedirs(f'data/results/{model_name}/{folders}')\n",
    "        r.save(f'data/results/{model_name}/{folders}/result_{i}.jpg')\n",
    "        for box in r.boxes:\n",
    "            if len(box.cls):\n",
    "                for i,c in enumerate(box.cls):\n",
    "                    label = model.names[int(c)]\n",
    "                    if label not in predictions:\n",
    "                        predictions[label] = box.conf[i]\n",
    "                    else:\n",
    "                        predictions[label] = max(predictions[label], box.conf[i])\n",
    "    # sort the predictions by confidence\n",
    "    predictions = dict(sorted(predictions.items(), key=lambda item: item[1], reverse=True))\n",
    "    if not os.path.exists(f'data/results/{model_name}/{folders}'):\n",
    "        os.makedirs(f'data/results/{model_name}/{folders}')\n",
    "    with open(f'data/results/{model_name}/{folders}/results.txt', 'w') as f:\n",
    "        for k,v in predictions.items():\n",
    "            f.write(f'{k}: {v}\\n')\n",
    "\n",
    "\n",
    "         \n"
   ]
  }
 ],
 "metadata": {
  "kernelspec": {
   "display_name": "Python 3 (ipykernel)",
   "language": "python",
   "name": "python3"
  }
 },
 "nbformat": 4,
 "nbformat_minor": 2
}
