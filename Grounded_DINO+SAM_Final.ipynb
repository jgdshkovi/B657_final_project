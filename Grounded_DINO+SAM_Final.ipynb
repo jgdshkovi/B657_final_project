{
  "nbformat": 4,
  "nbformat_minor": 0,
  "metadata": {
    "colab": {
      "provenance": []
    },
    "kernelspec": {
      "name": "python3",
      "display_name": "Python 3"
    },
    "language_info": {
      "name": "python"
    },
    "widgets": {
      "application/vnd.jupyter.widget-state+json": {
        "c6283f3489dd47348684f7c4a1acee1c": {
          "model_module": "@jupyter-widgets/controls",
          "model_name": "HBoxModel",
          "model_module_version": "1.5.0",
          "state": {
            "_dom_classes": [],
            "_model_module": "@jupyter-widgets/controls",
            "_model_module_version": "1.5.0",
            "_model_name": "HBoxModel",
            "_view_count": null,
            "_view_module": "@jupyter-widgets/controls",
            "_view_module_version": "1.5.0",
            "_view_name": "HBoxView",
            "box_style": "",
            "children": [
              "IPY_MODEL_2cfe00046b3e41fd91ff49d29b0ca5dd",
              "IPY_MODEL_6255e517c7c64369a462da91a402e4d0",
              "IPY_MODEL_2b519242e1ac4735bca9e52d6253744a"
            ],
            "layout": "IPY_MODEL_27532ecc32cd4a40bc8140ef0e6107a0"
          }
        },
        "2cfe00046b3e41fd91ff49d29b0ca5dd": {
          "model_module": "@jupyter-widgets/controls",
          "model_name": "HTMLModel",
          "model_module_version": "1.5.0",
          "state": {
            "_dom_classes": [],
            "_model_module": "@jupyter-widgets/controls",
            "_model_module_version": "1.5.0",
            "_model_name": "HTMLModel",
            "_view_count": null,
            "_view_module": "@jupyter-widgets/controls",
            "_view_module_version": "1.5.0",
            "_view_name": "HTMLView",
            "description": "",
            "description_tooltip": null,
            "layout": "IPY_MODEL_f2f034e6ec9d47f4b88ab15688d4a3c3",
            "placeholder": "​",
            "style": "IPY_MODEL_9630baecbfd84eeea7d9ef7d9e8cccc3",
            "value": "100%"
          }
        },
        "6255e517c7c64369a462da91a402e4d0": {
          "model_module": "@jupyter-widgets/controls",
          "model_name": "FloatProgressModel",
          "model_module_version": "1.5.0",
          "state": {
            "_dom_classes": [],
            "_model_module": "@jupyter-widgets/controls",
            "_model_module_version": "1.5.0",
            "_model_name": "FloatProgressModel",
            "_view_count": null,
            "_view_module": "@jupyter-widgets/controls",
            "_view_module_version": "1.5.0",
            "_view_name": "ProgressView",
            "bar_style": "success",
            "description": "",
            "description_tooltip": null,
            "layout": "IPY_MODEL_1dbfd071563b4eb1b7b4b1ec402c33a2",
            "max": 3,
            "min": 0,
            "orientation": "horizontal",
            "style": "IPY_MODEL_5dca3fce1b934a718d1b8eb6ae6f3e44",
            "value": 3
          }
        },
        "2b519242e1ac4735bca9e52d6253744a": {
          "model_module": "@jupyter-widgets/controls",
          "model_name": "HTMLModel",
          "model_module_version": "1.5.0",
          "state": {
            "_dom_classes": [],
            "_model_module": "@jupyter-widgets/controls",
            "_model_module_version": "1.5.0",
            "_model_name": "HTMLModel",
            "_view_count": null,
            "_view_module": "@jupyter-widgets/controls",
            "_view_module_version": "1.5.0",
            "_view_name": "HTMLView",
            "description": "",
            "description_tooltip": null,
            "layout": "IPY_MODEL_135e3208de1447419fbd5c6d8c25fa29",
            "placeholder": "​",
            "style": "IPY_MODEL_d0d9a2f0200d4dd2a70d28297fd85d8f",
            "value": " 3/3 [00:22&lt;00:00,  6.91s/it]"
          }
        },
        "27532ecc32cd4a40bc8140ef0e6107a0": {
          "model_module": "@jupyter-widgets/base",
          "model_name": "LayoutModel",
          "model_module_version": "1.2.0",
          "state": {
            "_model_module": "@jupyter-widgets/base",
            "_model_module_version": "1.2.0",
            "_model_name": "LayoutModel",
            "_view_count": null,
            "_view_module": "@jupyter-widgets/base",
            "_view_module_version": "1.2.0",
            "_view_name": "LayoutView",
            "align_content": null,
            "align_items": null,
            "align_self": null,
            "border": null,
            "bottom": null,
            "display": null,
            "flex": null,
            "flex_flow": null,
            "grid_area": null,
            "grid_auto_columns": null,
            "grid_auto_flow": null,
            "grid_auto_rows": null,
            "grid_column": null,
            "grid_gap": null,
            "grid_row": null,
            "grid_template_areas": null,
            "grid_template_columns": null,
            "grid_template_rows": null,
            "height": null,
            "justify_content": null,
            "justify_items": null,
            "left": null,
            "margin": null,
            "max_height": null,
            "max_width": null,
            "min_height": null,
            "min_width": null,
            "object_fit": null,
            "object_position": null,
            "order": null,
            "overflow": null,
            "overflow_x": null,
            "overflow_y": null,
            "padding": null,
            "right": null,
            "top": null,
            "visibility": null,
            "width": null
          }
        },
        "f2f034e6ec9d47f4b88ab15688d4a3c3": {
          "model_module": "@jupyter-widgets/base",
          "model_name": "LayoutModel",
          "model_module_version": "1.2.0",
          "state": {
            "_model_module": "@jupyter-widgets/base",
            "_model_module_version": "1.2.0",
            "_model_name": "LayoutModel",
            "_view_count": null,
            "_view_module": "@jupyter-widgets/base",
            "_view_module_version": "1.2.0",
            "_view_name": "LayoutView",
            "align_content": null,
            "align_items": null,
            "align_self": null,
            "border": null,
            "bottom": null,
            "display": null,
            "flex": null,
            "flex_flow": null,
            "grid_area": null,
            "grid_auto_columns": null,
            "grid_auto_flow": null,
            "grid_auto_rows": null,
            "grid_column": null,
            "grid_gap": null,
            "grid_row": null,
            "grid_template_areas": null,
            "grid_template_columns": null,
            "grid_template_rows": null,
            "height": null,
            "justify_content": null,
            "justify_items": null,
            "left": null,
            "margin": null,
            "max_height": null,
            "max_width": null,
            "min_height": null,
            "min_width": null,
            "object_fit": null,
            "object_position": null,
            "order": null,
            "overflow": null,
            "overflow_x": null,
            "overflow_y": null,
            "padding": null,
            "right": null,
            "top": null,
            "visibility": null,
            "width": null
          }
        },
        "9630baecbfd84eeea7d9ef7d9e8cccc3": {
          "model_module": "@jupyter-widgets/controls",
          "model_name": "DescriptionStyleModel",
          "model_module_version": "1.5.0",
          "state": {
            "_model_module": "@jupyter-widgets/controls",
            "_model_module_version": "1.5.0",
            "_model_name": "DescriptionStyleModel",
            "_view_count": null,
            "_view_module": "@jupyter-widgets/base",
            "_view_module_version": "1.2.0",
            "_view_name": "StyleView",
            "description_width": ""
          }
        },
        "1dbfd071563b4eb1b7b4b1ec402c33a2": {
          "model_module": "@jupyter-widgets/base",
          "model_name": "LayoutModel",
          "model_module_version": "1.2.0",
          "state": {
            "_model_module": "@jupyter-widgets/base",
            "_model_module_version": "1.2.0",
            "_model_name": "LayoutModel",
            "_view_count": null,
            "_view_module": "@jupyter-widgets/base",
            "_view_module_version": "1.2.0",
            "_view_name": "LayoutView",
            "align_content": null,
            "align_items": null,
            "align_self": null,
            "border": null,
            "bottom": null,
            "display": null,
            "flex": null,
            "flex_flow": null,
            "grid_area": null,
            "grid_auto_columns": null,
            "grid_auto_flow": null,
            "grid_auto_rows": null,
            "grid_column": null,
            "grid_gap": null,
            "grid_row": null,
            "grid_template_areas": null,
            "grid_template_columns": null,
            "grid_template_rows": null,
            "height": null,
            "justify_content": null,
            "justify_items": null,
            "left": null,
            "margin": null,
            "max_height": null,
            "max_width": null,
            "min_height": null,
            "min_width": null,
            "object_fit": null,
            "object_position": null,
            "order": null,
            "overflow": null,
            "overflow_x": null,
            "overflow_y": null,
            "padding": null,
            "right": null,
            "top": null,
            "visibility": null,
            "width": null
          }
        },
        "5dca3fce1b934a718d1b8eb6ae6f3e44": {
          "model_module": "@jupyter-widgets/controls",
          "model_name": "ProgressStyleModel",
          "model_module_version": "1.5.0",
          "state": {
            "_model_module": "@jupyter-widgets/controls",
            "_model_module_version": "1.5.0",
            "_model_name": "ProgressStyleModel",
            "_view_count": null,
            "_view_module": "@jupyter-widgets/base",
            "_view_module_version": "1.2.0",
            "_view_name": "StyleView",
            "bar_color": null,
            "description_width": ""
          }
        },
        "135e3208de1447419fbd5c6d8c25fa29": {
          "model_module": "@jupyter-widgets/base",
          "model_name": "LayoutModel",
          "model_module_version": "1.2.0",
          "state": {
            "_model_module": "@jupyter-widgets/base",
            "_model_module_version": "1.2.0",
            "_model_name": "LayoutModel",
            "_view_count": null,
            "_view_module": "@jupyter-widgets/base",
            "_view_module_version": "1.2.0",
            "_view_name": "LayoutView",
            "align_content": null,
            "align_items": null,
            "align_self": null,
            "border": null,
            "bottom": null,
            "display": null,
            "flex": null,
            "flex_flow": null,
            "grid_area": null,
            "grid_auto_columns": null,
            "grid_auto_flow": null,
            "grid_auto_rows": null,
            "grid_column": null,
            "grid_gap": null,
            "grid_row": null,
            "grid_template_areas": null,
            "grid_template_columns": null,
            "grid_template_rows": null,
            "height": null,
            "justify_content": null,
            "justify_items": null,
            "left": null,
            "margin": null,
            "max_height": null,
            "max_width": null,
            "min_height": null,
            "min_width": null,
            "object_fit": null,
            "object_position": null,
            "order": null,
            "overflow": null,
            "overflow_x": null,
            "overflow_y": null,
            "padding": null,
            "right": null,
            "top": null,
            "visibility": null,
            "width": null
          }
        },
        "d0d9a2f0200d4dd2a70d28297fd85d8f": {
          "model_module": "@jupyter-widgets/controls",
          "model_name": "DescriptionStyleModel",
          "model_module_version": "1.5.0",
          "state": {
            "_model_module": "@jupyter-widgets/controls",
            "_model_module_version": "1.5.0",
            "_model_name": "DescriptionStyleModel",
            "_view_count": null,
            "_view_module": "@jupyter-widgets/base",
            "_view_module_version": "1.2.0",
            "_view_name": "StyleView",
            "description_width": ""
          }
        }
      }
    }
  },
  "cells": [
    {
      "cell_type": "markdown",
      "source": [
        "We are Implementing the Grouding DINO + SAM creating a dataset stroing it and testing on the yolo v8. Run this file using the Colab which would be easy to create and use the datasets and models.\n",
        "\n",
        "* upload the videos.zip that is in the zip file to the videos directory that is created as part of this code.   \n",
        "\n",
        "\n"
      ],
      "metadata": {
        "id": "g0wAkSM3N5Cd"
      }
    },
    {
      "cell_type": "code",
      "execution_count": null,
      "metadata": {
        "id": "sUp5EsYJVLUf"
      },
      "outputs": [],
      "source": [
        "#code for implementing Grounded DINO+SAM model\n",
        "#install necessary Lib's\n",
        "!pip install -q \\autodistill \\autodistill-grounded-sam \\autodistill-yolov8 \\ supervision==0.9.0\n",
        "!pip install roboflow"
      ]
    },
    {
      "cell_type": "code",
      "source": [
        "import os\n",
        "HOME = os.getcwd()\n",
        "!mkdir {HOME}/images\n",
        "!mkdir {HOME}/videos\n",
        "\n",
        " # adding the zipped videos that we want to implement and pre process"
      ],
      "metadata": {
        "id": "GIEzcK7Hh_kf"
      },
      "execution_count": 1,
      "outputs": []
    },
    {
      "cell_type": "code",
      "source": [
        "%cd {HOME}/videos\n",
        "!unzip vid_zip.zip # give videos zip file name"
      ],
      "metadata": {
        "id": "fEJXvXILl82s"
      },
      "execution_count": null,
      "outputs": []
    },
    {
      "cell_type": "code",
      "source": [
        "Videos_dir_path =  f\"{HOME}/videos/videos.zip\" # give Videos path to be processed\n",
        "Image_dir_path =  f\"{HOME}/images\" # give path of the images to be stored\n",
        "Noframes = 70 # setting the frame stride"
      ],
      "metadata": {
        "id": "JZrNyWiBV_5Z"
      },
      "execution_count": 3,
      "outputs": []
    },
    {
      "cell_type": "code",
      "source": [
        "import supervision as sv\n",
        "from tqdm.notebook import tqdm\n",
        "\n",
        "# extracting the videos from the path if it is a mp4.\n",
        "video_paths = sv.list_files_with_extensions(directory=Videos_dir_path,extensions=[\"mov\",\"mp4\"])\n",
        "\n",
        "#extracting the frames from the video\n",
        "for video_path in tqdm(video_paths):\n",
        "    video_name = video_path.stem\n",
        "    image_name_pattern = video_name + \"-{:05d}.png\"\n",
        "    with sv.ImageSink(target_dir_path=Image_dir_path, image_name_pattern=image_name_pattern) as sink:\n",
        "        for image in sv.get_video_frames_generator(source_path=str(video_path), stride=Noframes):\n",
        "            sink.save_image(image=image)"
      ],
      "metadata": {
        "colab": {
          "base_uri": "https://localhost:8080/",
          "height": 49,
          "referenced_widgets": [
            "c6283f3489dd47348684f7c4a1acee1c",
            "2cfe00046b3e41fd91ff49d29b0ca5dd",
            "6255e517c7c64369a462da91a402e4d0",
            "2b519242e1ac4735bca9e52d6253744a",
            "27532ecc32cd4a40bc8140ef0e6107a0",
            "f2f034e6ec9d47f4b88ab15688d4a3c3",
            "9630baecbfd84eeea7d9ef7d9e8cccc3",
            "1dbfd071563b4eb1b7b4b1ec402c33a2",
            "5dca3fce1b934a718d1b8eb6ae6f3e44",
            "135e3208de1447419fbd5c6d8c25fa29",
            "d0d9a2f0200d4dd2a70d28297fd85d8f"
          ]
        },
        "id": "zAtJMCEpWG5I",
        "outputId": "d116f9dc-d6d0-4678-da4e-ae4443bd54d3"
      },
      "execution_count": 4,
      "outputs": [
        {
          "output_type": "display_data",
          "data": {
            "text/plain": [
              "  0%|          | 0/3 [00:00<?, ?it/s]"
            ],
            "application/vnd.jupyter.widget-view+json": {
              "version_major": 2,
              "version_minor": 0,
              "model_id": "c6283f3489dd47348684f7c4a1acee1c"
            }
          },
          "metadata": {}
        }
      ]
    },
    {
      "cell_type": "code",
      "source": [
        "# Adding the CaptionOntology which is the text part that we send to the the Grounding DINO\n",
        "from autodistill.detection.caption_ontology import CaptionOntology\n",
        "ontology=CaptionOntology({\n",
        "  \"person\": \"person\",\n",
        " \"bicycle\": \"bicycle\",\n",
        " \"car\": \"car\",\n",
        " \"motorcycle\": \"motorcycle\",\n",
        " \"airplane\": \"airplane\",\n",
        " \"bus\": \"bus\",\n",
        " \"train\": \"train\",\n",
        " \"truck\": \"truck\",\n",
        " \"boat\": \"boat\",\n",
        " \"traffic light\": \"traffic light\",\n",
        " \"fire hydrant\": \"fire hydrant\",\n",
        " \"stop sign\": \"stop sign\",\n",
        " \"parking meter\": \"parking meter\",\n",
        " \"bench\": \"bench\",\n",
        " \"bird\": \"bird\",\n",
        " \"Animal\":\"Animal\",\n",
        " \"backpack\": \"backpack\",\n",
        " \"umbrella\": \"umbrella\",\n",
        " \"handbag\": \"handbag\",\n",
        " \"tie\": \"tie\",\n",
        " \"suitcase\": \"suitcase\",\n",
        " \"frisbee\": \"frisbee\",\n",
        " \"skis\": \"skis\",\n",
        " \"snowboard\": \"snowboard\",\n",
        " \"sports ball\": \"sports ball\",\n",
        " \"kite\": \"kite\",\n",
        " \"baseball bat\": \"baseball bat\",\n",
        " \"baseball glove\": \"baseball glove\",\n",
        " \"skateboard\": \"skateboard\",\n",
        " \"surfboard\": \"surfboard\",\n",
        " \"tennis racket\": \"tennis racket\",\n",
        " \"bottle\": \"bottle\",\n",
        " \"wine glass\": \"wine glass\",\n",
        " \"cup\": \"cup\",\n",
        " \"fork\": \"fork\",\n",
        " \"knife\": \"knife\",\n",
        " \"spoon\": \"spoon\",\n",
        " \"bowl\": \"bowl\",\n",
        " \"banana\": \"banana\",\n",
        " \"apple\": \"apple\",\n",
        " \"sandwich\": \"sandwich\",\n",
        " \"orange\": \"orange\",\n",
        " \"broccoli\": \"broccoli\",\n",
        " \"carrot\": \"carrot\",\n",
        " \"hot dog\": \"hot dog\",\n",
        " \"pizza\": \"pizza\",\n",
        " \"donut\": \"donut\",\n",
        " \"cake\": \"cake\",\n",
        " \"chair\": \"chair\",\n",
        " \"couch\": \"couch\",\n",
        " \"potted plant\": \"potted plant\",\n",
        " \"bed\": \"bed\",\n",
        " \"dining table\": \"dining table\",\n",
        " \"toilet\": \"toilet\",\n",
        " \"tv\": \"tv\",\n",
        " \"laptop\": \"laptop\",\n",
        " \"mouse\": \"mouse\",\n",
        " \"remote\": \"remote\",\n",
        " \"keyboard\": \"keyboard\",\n",
        " \"cell phone\": \"cell phone\",\n",
        " \"Telephone\" : \"Telephone\",\n",
        " \"oven\": \"oven\",\n",
        " \"toaster\": \"toaster\",\n",
        " \"sink\": \"sink\",\n",
        " \"refrigerator\": \"refrigerator\",\n",
        " \"book\": \"book\",\n",
        " \"clock\": \"clock\",\n",
        " \"vase\": \"vase\",\n",
        " \"scissors\": \"scissors\",\n",
        " \"teddy bear\": \"teddy bear\",\n",
        " \"hair drier\": \"hair drier\",\n",
        " \"toothbrush\": \"toothbrush\",\n",
        " \"building\": \"building\",\n",
        " \"Jewelry\":\"Jewelry\",\n",
        "  \"Ring\" : \"Ring\"\n",
        "})"
      ],
      "metadata": {
        "id": "cwlRemnnbgvc"
      },
      "execution_count": 5,
      "outputs": []
    },
    {
      "cell_type": "code",
      "source": [
        "DATASET_DIR_PATH = f\"{HOME}/dataset\" # setting path to store the dataset created from the Grounded DINO + SAM Model"
      ],
      "metadata": {
        "id": "3yx687KfjaWM"
      },
      "execution_count": 6,
      "outputs": []
    },
    {
      "cell_type": "code",
      "source": [
        "from autodistill_grounded_sam import GroundedSAM\n",
        "# implement the Grounded SAM from autodistill frame work of roboflow.\n",
        "# this is a combination of Grounded dino + Segement anything Model.\n",
        "base_model = GroundedSAM(ontology=ontology)\n",
        "dataset = base_model.label(\n",
        "    input_folder=Image_dir_path,\n",
        "    extension=\".png\",\n",
        "    output_folder=DATASET_DIR_PATH)\n",
        "# it creates a dataset similar to COCO and stores it in given dir_path"
      ],
      "metadata": {
        "id": "VOOOb4DfNhad"
      },
      "execution_count": null,
      "outputs": []
    },
    {
      "cell_type": "code",
      "source": [
        "import matplotlib.pyplot as plt\n",
        "import random\n",
        "SAMPLE_SIZE = 18\n",
        "image_names = list(dataset.images.keys())[:SAMPLE_SIZE]\n",
        "\n",
        "mask_annotator = sv.MaskAnnotator()\n",
        "box_annotator = sv.BoxAnnotator()\n",
        "\n",
        "for image_name in image_names:\n",
        "    image = dataset.images[image_name]\n",
        "    annotations = dataset.annotations[image_name]\n",
        "    labels = [\n",
        "        dataset.classes[class_id]\n",
        "        for class_id in annotations.class_id]\n",
        "\n",
        "    annotated_image = mask_annotator.annotate(\n",
        "        scene=image.copy(),\n",
        "        detections=annotations)\n",
        "    annotated_image = box_annotator.annotate(\n",
        "        scene=annotated_image,\n",
        "        detections=annotations,\n",
        "        labels=labels)\n",
        "\n",
        "    # Generate random plot sizes between 4 inches and 10 inches\n",
        "    random_width = random.uniform(4, 10)\n",
        "    random_height = random.uniform(4, 10)\n",
        "\n",
        "    # Plot each image individually with a random size\n",
        "    plt.figure(figsize=(random_width, random_height))\n",
        "    plt.imshow(annotated_image)\n",
        "    plt.title(image_name)\n",
        "    plt.axis('off')  # Hide axes\n",
        "    plt.show()"
      ],
      "metadata": {
        "id": "L-2Ndf7CdbAR"
      },
      "execution_count": 19,
      "outputs": []
    },
    {
      "cell_type": "code",
      "source": [
        "# setting up Paths to the content created from the DINO + SAM Model\n",
        "ANNOTATIONS_DIRECTORY_PATH = f\"{HOME}/dataset/train/labels\"\n",
        "IMAGES_DIRECTORY_PATH = f\"{HOME}/dataset/train/images\"\n",
        "DATA_YAML_PATH = f\"{HOME}/dataset/data.yaml\""
      ],
      "metadata": {
        "id": "RqyP1P4PkF5R"
      },
      "execution_count": 8,
      "outputs": []
    },
    {
      "cell_type": "code",
      "source": [
        "from autodistill_yolov8 import YOLOv8\n",
        "# training the yolov8 model on the dataset that we have generated from the Grouding DINO + SAM\n",
        "target_model = YOLOv8(\"yolov8l.pt\")\n",
        "target_model.train(DATA_YAML_PATH, epochs=10)"
      ],
      "metadata": {
        "id": "cj1lecNuNrmE"
      },
      "execution_count": null,
      "outputs": []
    },
    {
      "cell_type": "code",
      "source": [
        "# Test the model on an image\n",
        "target_model.predict(\"/content/images/k3569b16n-30000157759113_013_mezzCrop-00018.png\")\n"
      ],
      "metadata": {
        "id": "fxhr8i3afhpO"
      },
      "execution_count": null,
      "outputs": []
    },
    {
      "cell_type": "code",
      "source": [
        "from IPython.display import Image\n",
        "Image(filename=f'{HOME}/runs/detect/train/val_batch0_pred.jpg', width=600)"
      ],
      "metadata": {
        "id": "T35IaZKhgm4s"
      },
      "execution_count": null,
      "outputs": []
    },
    {
      "cell_type": "code",
      "source": [
        "TRAINED_MODEL_PATH = f\"{HOME}/runs/detect/train/weights/best.pt\"\n",
        "!yolo predict model={TRAINED_MODEL_PATH} source={\"/content/images/k3569b16n-30000157759113_013_mezzCrop-00018.png\"}\""
      ],
      "metadata": {
        "id": "-hk-M0H2hpwm"
      },
      "execution_count": null,
      "outputs": []
    }
  ]
}