{
  "cells": [
    {
      "cell_type": "code",
      "execution_count": null,
      "metadata": {
        "id": "Wv6uHfgyo-QE"
      },
      "outputs": [],
      "source": [
        "import cv2"
      ]
    },
    {
      "cell_type": "markdown",
      "metadata": {
        "id": "g8fzC59vCG9e"
      },
      "source": [
        "Here we are taking each frame for one every second in the video and removing the similar frames using structural similarity.\n",
        "I tried with histogram similarity also but structural is working well."
      ]
    },
    {
      "cell_type": "code",
      "execution_count": null,
      "metadata": {
        "id": "WDME7T_iz7Y8"
      },
      "outputs": [],
      "source": [
        "#Extracting Frames form\n",
        "def extract_frames_per_second(video_path, output_folder):\n",
        "    cap = cv2.VideoCapture(video_path)\n",
        "    fps = int(cap.get(cv2.CAP_PROP_FPS))  # Get the FPS of the video\n",
        "    frame_count = 0\n",
        "    extracted_count = 0\n",
        "\n",
        "    while True:\n",
        "        success, frame = cap.read()\n",
        "        if not success:\n",
        "            break\n",
        "        if frame_count % fps == 0:\n",
        "            cv2.imwrite(f'{output_folder}/frame_{extracted_count:04d}.png', frame)\n",
        "            extracted_count += 1\n",
        "\n",
        "        frame_count += 1\n",
        "\n",
        "    cap.release()\n",
        "    print(f\"Extracted {extracted_count} frames (1 frame per second).\")\n"
      ]
    },
    {
      "cell_type": "code",
      "execution_count": null,
      "metadata": {
        "id": "oZCQgZfk0HN1"
      },
      "outputs": [],
      "source": [
        "#using Structure Similarity to Find out similar Frames and remove duplicate frames\n",
        "from skimage.metrics import structural_similarity as ssim\n",
        "import cv2\n",
        "import os\n",
        "import numpy as np\n",
        "\n",
        "def remove_duplicate_frames_ssim(input_folder, threshold=0.90):\n",
        "    prev_frame = None\n",
        "    unique_frames = []\n",
        "\n",
        "    for frame_file in sorted(os.listdir(input_folder)):\n",
        "        frame_path = os.path.join(input_folder, frame_file)\n",
        "        frame = cv2.imread(frame_path, cv2.IMREAD_GRAYSCALE)\n",
        "\n",
        "        if prev_frame is not None:\n",
        "\n",
        "            score, _ = ssim(prev_frame, frame, full=True)\n",
        "            if score < threshold:\n",
        "                unique_frames.append(frame_path)\n",
        "        else:\n",
        "            unique_frames.append(frame_path)\n",
        "        prev_frame = frame\n",
        "    print(f\"Found {len(unique_frames)} unique frames.\")\n",
        "    return unique_frames\n"
      ]
    },
    {
      "cell_type": "code",
      "execution_count": null,
      "metadata": {
        "colab": {
          "base_uri": "https://localhost:8080/"
        },
        "id": "c_mqdWqyufXY",
        "outputId": "8a3dd926-b748-4b5b-b813-bc7c580a8bdc"
      },
      "outputs": [
        {
          "name": "stdout",
          "output_type": "stream",
          "text": [
            "Extracted 14 frames (1 frame per second).\n",
            "None\n"
          ]
        }
      ],
      "source": [
        "print(extract_frames_per_second(\"/content/Recording #15.mp4\",\"/content/Frames\"))"
      ]
    },
    {
      "cell_type": "code",
      "execution_count": null,
      "metadata": {
        "id": "XEdxi7H6vae0"
      },
      "outputs": [],
      "source": []
    },
    {
      "cell_type": "code",
      "execution_count": null,
      "metadata": {
        "colab": {
          "base_uri": "https://localhost:8080/"
        },
        "id": "5ttgrsY_vh62",
        "outputId": "aec71e02-ffca-4333-a8e9-8376e2183dfd"
      },
      "outputs": [
        {
          "name": "stdout",
          "output_type": "stream",
          "text": [
            "Found 7 unique frames.\n"
          ]
        },
        {
          "data": {
            "text/plain": [
              "['/content/Frames/frame_0000.png',\n",
              " '/content/Frames/frame_0008.png',\n",
              " '/content/Frames/frame_0009.png',\n",
              " '/content/Frames/frame_0010.png',\n",
              " '/content/Frames/frame_0011.png',\n",
              " '/content/Frames/frame_0012.png',\n",
              " '/content/Frames/frame_0013.png']"
            ]
          },
          "execution_count": 30,
          "metadata": {},
          "output_type": "execute_result"
        }
      ],
      "source": [
        "remove_duplicate_frames_ssim(\"/content/Frames\")"
      ]
    },
    {
      "cell_type": "markdown",
      "metadata": {
        "id": "wuTF5m7ECc3s"
      },
      "source": [
        "The frames that are cmg out of these can be sent to the model to give annotations."
      ]
    },
    {
      "cell_type": "code",
      "execution_count": null,
      "metadata": {
        "id": "Io_DVyOWCa9K"
      },
      "outputs": [],
      "source": []
    }
  ],
  "metadata": {
    "colab": {
      "provenance": [],
      "toc_visible": true
    },
    "kernelspec": {
      "display_name": "Python 3",
      "name": "python3"
    },
    "language_info": {
      "name": "python",
      "version": "3.11.7"
    }
  },
  "nbformat": 4,
  "nbformat_minor": 0
}
