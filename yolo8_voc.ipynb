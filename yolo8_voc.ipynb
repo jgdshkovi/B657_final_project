{
 "cells": [
  {
   "cell_type": "code",
   "execution_count": null,
   "metadata": {},
   "outputs": [],
   "source": [
    "from ultralytics import YOLO\n",
    "\n",
    "# Load a pretrained YOLO model (recommended for training)\n",
    "model = YOLO('yolov8n.pt')\n",
    "\n",
    " # Train the model\n",
    "results = model.train(data='VOC.yaml', epochs=100, imgsz=640, resume=True)"
   ]
  },
  {
   "cell_type": "code",
   "execution_count": null,
   "metadata": {},
   "outputs": [],
   "source": [
    "import os\n",
    "\n",
    "model_name = 'yolo_voc'\n",
    "for folders in os.listdir(f'data/frames'):\n",
    "    results = model.predict(f'data/frames/{folders}', save_conf=True)\n",
    "    predictions = {}\n",
    "    for i,r in enumerate(results):\n",
    "        if not os.path.exists(f'data/results/{model_name}/{folders}'):\n",
    "            os.makedirs(f'data/results/{model_name}/{folders}')\n",
    "        r.save(f'data/results/{model_name}/{folders}/result_{i}.jpg')\n",
    "        for box in r.boxes:\n",
    "            if len(box.cls):\n",
    "                for i,c in enumerate(box.cls):\n",
    "                    label = model.names[int(c)]\n",
    "                    if label not in predictions:\n",
    "                        predictions[label] = box.conf[i]\n",
    "                    else:\n",
    "                        predictions[label] = max(predictions[label], box.conf[i])\n",
    "    # sort the predictions by confidence\n",
    "    predictions = dict(sorted(predictions.items(), key=lambda item: item[1], reverse=True))\n",
    "    if not os.path.exists(f'data/results/{model_name}/{folders}'):\n",
    "        os.makedirs(f'data/results/{model_name}/{folders}')\n",
    "    with open(f'data/results/{model_name}/{folders}/results.txt', 'w') as f:\n",
    "        for k,v in predictions.items():\n",
    "            f.write(f'{k}: {v}\\n')"
   ]
  }
 ],
 "metadata": {
  "kernelspec": {
   "display_name": "Python 3 (ipykernel)",
   "language": "python",
   "name": "python3"
  },
  "language_info": {
   "codemirror_mode": {
    "name": "ipython",
    "version": 3
   },
   "file_extension": ".py",
   "mimetype": "text/x-python",
   "name": "python",
   "nbconvert_exporter": "python",
   "pygments_lexer": "ipython3",
   "version": "3.11.7"
  }
 },
 "nbformat": 4,
 "nbformat_minor": 2
}
