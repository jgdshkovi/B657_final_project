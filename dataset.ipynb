{
 "cells": [
  {
   "cell_type": "code",
   "execution_count": 1,
   "metadata": {},
   "outputs": [],
   "source": [
    "import cv2\n",
    "import numpy as np\n",
    "import os"
   ]
  },
  {
   "cell_type": "code",
   "execution_count": 2,
   "metadata": {},
   "outputs": [],
   "source": [
    "#Extracting Frames form\n",
    "def extract_frames_per_second(video_path, output_folder):\n",
    "    cap = cv2.VideoCapture(video_path)\n",
    "    fps = int(cap.get(cv2.CAP_PROP_FPS))  # Get the FPS of the video\n",
    "    frame_count = 0\n",
    "    extracted_count = 0\n",
    "    frames = []\n",
    "    while True:\n",
    "        success, frame = cap.read()\n",
    "        if not success:\n",
    "            break\n",
    "        if frame_count % fps == 0:\n",
    "            frames.append(frame)\n",
    "            cv2.imwrite(f'{output_folder}/frame_{extracted_count:04d}.png', frame)\n",
    "            extracted_count += 1\n",
    "\n",
    "        frame_count += 1\n",
    "\n",
    "    cap.release()\n",
    "    print(f\"Extracted {extracted_count} frames (1 frame per second).\")\n",
    "    # return frames"
   ]
  },
  {
   "cell_type": "code",
   "execution_count": 3,
   "metadata": {},
   "outputs": [
    {
     "name": "stdout",
     "output_type": "stream",
     "text": [
      "Extracted 92 frames (1 frame per second).\n",
      "Extracted 63 frames (1 frame per second).\n",
      "Extracted 63 frames (1 frame per second).\n",
      "Extracted 61 frames (1 frame per second).\n",
      "Extracted 64 frames (1 frame per second).\n",
      "Extracted 61 frames (1 frame per second).\n",
      "Extracted 62 frames (1 frame per second).\n",
      "Extracted 61 frames (1 frame per second).\n",
      "Extracted 62 frames (1 frame per second).\n",
      "Extracted 66 frames (1 frame per second).\n",
      "Extracted 60 frames (1 frame per second).\n"
     ]
    }
   ],
   "source": [
    "for video in os.listdir(\"data/videos\"):\n",
    "    title = video.split(\".\")[0]\n",
    "    if not os.path.exists(f\"data/frames/{title}\"):\n",
    "        os.makedirs(f\"data/frames/{title}\")\n",
    "    frames = extract_frames_per_second(f\"data/videos/{video}\", f\"data/frames/{title}\")"
   ]
  }
 ],
 "metadata": {
  "kernelspec": {
   "display_name": "b657",
   "language": "python",
   "name": "python3"
  },
  "language_info": {
   "codemirror_mode": {
    "name": "ipython",
    "version": 3
   },
   "file_extension": ".py",
   "mimetype": "text/x-python",
   "name": "python",
   "nbconvert_exporter": "python",
   "pygments_lexer": "ipython3",
   "version": "3.11.7"
  }
 },
 "nbformat": 4,
 "nbformat_minor": 2
}
